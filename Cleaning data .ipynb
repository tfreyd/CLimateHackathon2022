{
 "cells": [
  {
   "cell_type": "code",
   "execution_count": 48,
   "id": "b53d0bb2",
   "metadata": {},
   "outputs": [],
   "source": [
    "import pandas as pd\n",
    "import glob\n",
    "import json \n",
    "import numpy as np"
   ]
  },
  {
   "cell_type": "markdown",
   "id": "6ea6db16",
   "metadata": {},
   "source": [
    "### Get the data \n",
    "from the Logic App workflow, we get several json file, hence need to concatenate all together"
   ]
  },
  {
   "cell_type": "code",
   "execution_count": 8,
   "id": "43ac25dd",
   "metadata": {},
   "outputs": [],
   "source": [
    "# concatenate the json files\n",
    "\n",
    "df = pd.read_json('./Data/WithCoordinates_Finnyeardata_WholeNorway/WithCoordinates_1987_Finnyeardata_WholeNorway_1987_label_7.json')"
   ]
  },
  {
   "cell_type": "code",
   "execution_count": 9,
   "id": "8e8dc6b8",
   "metadata": {},
   "outputs": [
    {
     "data": {
      "text/html": [
       "<div>\n",
       "<style scoped>\n",
       "    .dataframe tbody tr th:only-of-type {\n",
       "        vertical-align: middle;\n",
       "    }\n",
       "\n",
       "    .dataframe tbody tr th {\n",
       "        vertical-align: top;\n",
       "    }\n",
       "\n",
       "    .dataframe thead th {\n",
       "        text-align: right;\n",
       "    }\n",
       "</style>\n",
       "<table border=\"1\" class=\"dataframe\">\n",
       "  <thead>\n",
       "    <tr style=\"text-align: right;\">\n",
       "      <th></th>\n",
       "      <th>Location</th>\n",
       "      <th>ad_id</th>\n",
       "      <th>ad_link</th>\n",
       "      <th>ad_type</th>\n",
       "      <th>energy_label</th>\n",
       "      <th>from_year</th>\n",
       "      <th>lat</th>\n",
       "      <th>local_area_name</th>\n",
       "      <th>lon</th>\n",
       "      <th>number_of_bedrooms</th>\n",
       "      <th>owner_type_description</th>\n",
       "      <th>property_type_description</th>\n",
       "      <th>size_from</th>\n",
       "      <th>to_year</th>\n",
       "      <th>type</th>\n",
       "    </tr>\n",
       "  </thead>\n",
       "  <tbody>\n",
       "    <tr>\n",
       "      <th>0</th>\n",
       "      <td>Vanylvsvegen 1144, Fiskå</td>\n",
       "      <td>261340328</td>\n",
       "      <td>https://www.finn.no/realestate/homes/ad.html?f...</td>\n",
       "      <td>1</td>\n",
       "      <td>7</td>\n",
       "      <td>1987</td>\n",
       "      <td>62.09800</td>\n",
       "      <td>FISKÅ</td>\n",
       "      <td>5.59500</td>\n",
       "      <td>4</td>\n",
       "      <td>Eier (Selveier)</td>\n",
       "      <td>Enebolig</td>\n",
       "      <td>178</td>\n",
       "      <td>1987</td>\n",
       "      <td>realestate</td>\n",
       "    </tr>\n",
       "    <tr>\n",
       "      <th>1</th>\n",
       "      <td>Marcus Thranes gate 5, Gjøvik</td>\n",
       "      <td>261324095</td>\n",
       "      <td>https://www.finn.no/realestate/homes/ad.html?f...</td>\n",
       "      <td>1</td>\n",
       "      <td>7</td>\n",
       "      <td>1987</td>\n",
       "      <td>60.79909</td>\n",
       "      <td>None</td>\n",
       "      <td>10.68576</td>\n",
       "      <td>2</td>\n",
       "      <td>Eier (Selveier)</td>\n",
       "      <td>Leilighet</td>\n",
       "      <td>88</td>\n",
       "      <td>1987</td>\n",
       "      <td>realestate</td>\n",
       "    </tr>\n",
       "    <tr>\n",
       "      <th>2</th>\n",
       "      <td>Herregårdsveien 115B, Oslo</td>\n",
       "      <td>258617331</td>\n",
       "      <td>https://www.finn.no/realestate/homes/ad.html?f...</td>\n",
       "      <td>1</td>\n",
       "      <td>7</td>\n",
       "      <td>1987</td>\n",
       "      <td>59.84323</td>\n",
       "      <td>Ljan / Nordstrand</td>\n",
       "      <td>10.77654</td>\n",
       "      <td>1</td>\n",
       "      <td>Andel</td>\n",
       "      <td>Leilighet</td>\n",
       "      <td>51</td>\n",
       "      <td>1987</td>\n",
       "      <td>realestate</td>\n",
       "    </tr>\n",
       "    <tr>\n",
       "      <th>3</th>\n",
       "      <td>Furulundtoppen 21, Oslo</td>\n",
       "      <td>257295350</td>\n",
       "      <td>https://www.finn.no/realestate/homes/ad.html?f...</td>\n",
       "      <td>1</td>\n",
       "      <td>7</td>\n",
       "      <td>1987</td>\n",
       "      <td>59.92410</td>\n",
       "      <td>Ullern/Furulundtoppen</td>\n",
       "      <td>10.64710</td>\n",
       "      <td>2</td>\n",
       "      <td>Eier (Selveier)</td>\n",
       "      <td>Leilighet</td>\n",
       "      <td>136</td>\n",
       "      <td>1987</td>\n",
       "      <td>realestate</td>\n",
       "    </tr>\n",
       "    <tr>\n",
       "      <th>4</th>\n",
       "      <td>Abraham Berges vei 46A, Vanse</td>\n",
       "      <td>260514516</td>\n",
       "      <td>https://www.finn.no/realestate/homes/ad.html?f...</td>\n",
       "      <td>1</td>\n",
       "      <td>7</td>\n",
       "      <td>1987</td>\n",
       "      <td>58.10040</td>\n",
       "      <td>None</td>\n",
       "      <td>6.69778</td>\n",
       "      <td>2</td>\n",
       "      <td>Eier (Selveier)</td>\n",
       "      <td>Leilighet</td>\n",
       "      <td>93</td>\n",
       "      <td>1987</td>\n",
       "      <td>realestate</td>\n",
       "    </tr>\n",
       "  </tbody>\n",
       "</table>\n",
       "</div>"
      ],
      "text/plain": [
       "                        Location      ad_id  \\\n",
       "0       Vanylvsvegen 1144, Fiskå  261340328   \n",
       "1  Marcus Thranes gate 5, Gjøvik  261324095   \n",
       "2     Herregårdsveien 115B, Oslo  258617331   \n",
       "3        Furulundtoppen 21, Oslo  257295350   \n",
       "4  Abraham Berges vei 46A, Vanse  260514516   \n",
       "\n",
       "                                             ad_link  ad_type  energy_label  \\\n",
       "0  https://www.finn.no/realestate/homes/ad.html?f...        1             7   \n",
       "1  https://www.finn.no/realestate/homes/ad.html?f...        1             7   \n",
       "2  https://www.finn.no/realestate/homes/ad.html?f...        1             7   \n",
       "3  https://www.finn.no/realestate/homes/ad.html?f...        1             7   \n",
       "4  https://www.finn.no/realestate/homes/ad.html?f...        1             7   \n",
       "\n",
       "   from_year       lat        local_area_name       lon  number_of_bedrooms  \\\n",
       "0       1987  62.09800                  FISKÅ   5.59500                   4   \n",
       "1       1987  60.79909                   None  10.68576                   2   \n",
       "2       1987  59.84323      Ljan / Nordstrand  10.77654                   1   \n",
       "3       1987  59.92410  Ullern/Furulundtoppen  10.64710                   2   \n",
       "4       1987  58.10040                   None   6.69778                   2   \n",
       "\n",
       "  owner_type_description property_type_description  size_from  to_year  \\\n",
       "0        Eier (Selveier)                  Enebolig        178     1987   \n",
       "1        Eier (Selveier)                 Leilighet         88     1987   \n",
       "2                  Andel                 Leilighet         51     1987   \n",
       "3        Eier (Selveier)                 Leilighet        136     1987   \n",
       "4        Eier (Selveier)                 Leilighet         93     1987   \n",
       "\n",
       "         type  \n",
       "0  realestate  \n",
       "1  realestate  \n",
       "2  realestate  \n",
       "3  realestate  \n",
       "4  realestate  "
      ]
     },
     "execution_count": 9,
     "metadata": {},
     "output_type": "execute_result"
    }
   ],
   "source": [
    "df.head()"
   ]
  },
  {
   "cell_type": "code",
   "execution_count": 18,
   "id": "41a9b51d",
   "metadata": {},
   "outputs": [],
   "source": [
    "data = []\n",
    "\n",
    "for f in glob.glob(\"./Data/WithCoordinates_Finnyeardata_WholeNorway/*.json\"):\n",
    "\n",
    "    with open(f,) as infile:\n",
    "\n",
    "        data.extend(json.load(infile))\n",
    "\n",
    "\n",
    "with open(\"merged_file.json\",'w') as outfile:\n",
    "\n",
    "    json.dump(data, outfile)\n",
    "\n"
   ]
  },
  {
   "cell_type": "code",
   "execution_count": 21,
   "id": "642171c1",
   "metadata": {},
   "outputs": [
    {
     "data": {
      "text/plain": [
       "6961"
      ]
     },
     "execution_count": 21,
     "metadata": {},
     "output_type": "execute_result"
    }
   ],
   "source": [
    "len(data)"
   ]
  },
  {
   "cell_type": "markdown",
   "id": "614bd633",
   "metadata": {},
   "source": [
    "### Data Cleaning"
   ]
  },
  {
   "cell_type": "code",
   "execution_count": 25,
   "id": "c2668200",
   "metadata": {},
   "outputs": [],
   "source": [
    "df = pd.DataFrame(data)"
   ]
  },
  {
   "cell_type": "code",
   "execution_count": 27,
   "id": "f33547ef",
   "metadata": {},
   "outputs": [
    {
     "data": {
      "text/html": [
       "<div>\n",
       "<style scoped>\n",
       "    .dataframe tbody tr th:only-of-type {\n",
       "        vertical-align: middle;\n",
       "    }\n",
       "\n",
       "    .dataframe tbody tr th {\n",
       "        vertical-align: top;\n",
       "    }\n",
       "\n",
       "    .dataframe thead th {\n",
       "        text-align: right;\n",
       "    }\n",
       "</style>\n",
       "<table border=\"1\" class=\"dataframe\">\n",
       "  <thead>\n",
       "    <tr style=\"text-align: right;\">\n",
       "      <th></th>\n",
       "      <th>Location</th>\n",
       "      <th>ad_id</th>\n",
       "      <th>ad_link</th>\n",
       "      <th>ad_type</th>\n",
       "      <th>energy_label</th>\n",
       "      <th>from_year</th>\n",
       "      <th>lat</th>\n",
       "      <th>local_area_name</th>\n",
       "      <th>lon</th>\n",
       "      <th>number_of_bedrooms</th>\n",
       "      <th>owner_type_description</th>\n",
       "      <th>property_type_description</th>\n",
       "      <th>size_from</th>\n",
       "      <th>to_year</th>\n",
       "      <th>type</th>\n",
       "    </tr>\n",
       "  </thead>\n",
       "  <tbody>\n",
       "    <tr>\n",
       "      <th>0</th>\n",
       "      <td>Olsvikåsen 132, Olsvik</td>\n",
       "      <td>261320756</td>\n",
       "      <td>https://www.finn.no/realestate/homes/ad.html?f...</td>\n",
       "      <td>1</td>\n",
       "      <td>5</td>\n",
       "      <td>1979</td>\n",
       "      <td>60.38086</td>\n",
       "      <td>Bergen Vest/Olsvik</td>\n",
       "      <td>5.22157</td>\n",
       "      <td>1</td>\n",
       "      <td>Andel</td>\n",
       "      <td>Leilighet</td>\n",
       "      <td>47.0</td>\n",
       "      <td>1979</td>\n",
       "      <td>realestate</td>\n",
       "    </tr>\n",
       "    <tr>\n",
       "      <th>1</th>\n",
       "      <td>Hans Haslums Vei 33, Bekkestua</td>\n",
       "      <td>261047389</td>\n",
       "      <td>https://www.finn.no/realestate/homes/ad.html?f...</td>\n",
       "      <td>1</td>\n",
       "      <td>5</td>\n",
       "      <td>1979</td>\n",
       "      <td>59.91960</td>\n",
       "      <td>DESIGNBOLIG PÅ BEKKESTUA</td>\n",
       "      <td>10.57280</td>\n",
       "      <td>6</td>\n",
       "      <td>Eier (Selveier)</td>\n",
       "      <td>Enebolig</td>\n",
       "      <td>359.0</td>\n",
       "      <td>1979</td>\n",
       "      <td>realestate</td>\n",
       "    </tr>\n",
       "    <tr>\n",
       "      <th>2</th>\n",
       "      <td>Oskarbakken 21, Mo i Rana</td>\n",
       "      <td>260995104</td>\n",
       "      <td>https://www.finn.no/realestate/homes/ad.html?f...</td>\n",
       "      <td>1</td>\n",
       "      <td>5</td>\n",
       "      <td>1979</td>\n",
       "      <td>66.29020</td>\n",
       "      <td>Åga</td>\n",
       "      <td>14.09350</td>\n",
       "      <td>5</td>\n",
       "      <td>Eier (Selveier)</td>\n",
       "      <td>Enebolig</td>\n",
       "      <td>153.0</td>\n",
       "      <td>1979</td>\n",
       "      <td>realestate</td>\n",
       "    </tr>\n",
       "    <tr>\n",
       "      <th>3</th>\n",
       "      <td>Sandalssvingen 7, Stavanger</td>\n",
       "      <td>260891920</td>\n",
       "      <td>https://www.finn.no/realestate/homes/ad.html?f...</td>\n",
       "      <td>1</td>\n",
       "      <td>5</td>\n",
       "      <td>1979</td>\n",
       "      <td>58.95740</td>\n",
       "      <td>SANDAL</td>\n",
       "      <td>5.68380</td>\n",
       "      <td>1</td>\n",
       "      <td>Andel</td>\n",
       "      <td>Leilighet</td>\n",
       "      <td>47.0</td>\n",
       "      <td>1979</td>\n",
       "      <td>realestate</td>\n",
       "    </tr>\n",
       "    <tr>\n",
       "      <th>4</th>\n",
       "      <td>Midtåstunet 8, Førde</td>\n",
       "      <td>260886553</td>\n",
       "      <td>https://www.finn.no/realestate/homes/ad.html?f...</td>\n",
       "      <td>1</td>\n",
       "      <td>5</td>\n",
       "      <td>1979</td>\n",
       "      <td>61.45764</td>\n",
       "      <td>None</td>\n",
       "      <td>5.90090</td>\n",
       "      <td>3</td>\n",
       "      <td>Andel</td>\n",
       "      <td>Rekkehus</td>\n",
       "      <td>99.0</td>\n",
       "      <td>1979</td>\n",
       "      <td>realestate</td>\n",
       "    </tr>\n",
       "  </tbody>\n",
       "</table>\n",
       "</div>"
      ],
      "text/plain": [
       "                         Location      ad_id  \\\n",
       "0          Olsvikåsen 132, Olsvik  261320756   \n",
       "1  Hans Haslums Vei 33, Bekkestua  261047389   \n",
       "2       Oskarbakken 21, Mo i Rana  260995104   \n",
       "3     Sandalssvingen 7, Stavanger  260891920   \n",
       "4            Midtåstunet 8, Førde  260886553   \n",
       "\n",
       "                                             ad_link  ad_type  energy_label  \\\n",
       "0  https://www.finn.no/realestate/homes/ad.html?f...        1             5   \n",
       "1  https://www.finn.no/realestate/homes/ad.html?f...        1             5   \n",
       "2  https://www.finn.no/realestate/homes/ad.html?f...        1             5   \n",
       "3  https://www.finn.no/realestate/homes/ad.html?f...        1             5   \n",
       "4  https://www.finn.no/realestate/homes/ad.html?f...        1             5   \n",
       "\n",
       "   from_year       lat           local_area_name       lon  \\\n",
       "0       1979  60.38086        Bergen Vest/Olsvik   5.22157   \n",
       "1       1979  59.91960  DESIGNBOLIG PÅ BEKKESTUA  10.57280   \n",
       "2       1979  66.29020                       Åga  14.09350   \n",
       "3       1979  58.95740                    SANDAL   5.68380   \n",
       "4       1979  61.45764                      None   5.90090   \n",
       "\n",
       "   number_of_bedrooms owner_type_description property_type_description  \\\n",
       "0                   1                  Andel                 Leilighet   \n",
       "1                   6        Eier (Selveier)                  Enebolig   \n",
       "2                   5        Eier (Selveier)                  Enebolig   \n",
       "3                   1                  Andel                 Leilighet   \n",
       "4                   3                  Andel                  Rekkehus   \n",
       "\n",
       "   size_from  to_year        type  \n",
       "0       47.0     1979  realestate  \n",
       "1      359.0     1979  realestate  \n",
       "2      153.0     1979  realestate  \n",
       "3       47.0     1979  realestate  \n",
       "4       99.0     1979  realestate  "
      ]
     },
     "execution_count": 27,
     "metadata": {},
     "output_type": "execute_result"
    }
   ],
   "source": [
    "df.head()"
   ]
  },
  {
   "cell_type": "code",
   "execution_count": 28,
   "id": "c960c4c4",
   "metadata": {},
   "outputs": [
    {
     "data": {
      "text/plain": [
       "Leilighet                3301\n",
       "Enebolig                 2711\n",
       "Tomannsbolig              460\n",
       "Rekkehus                  385\n",
       "Gårdsbruk/Småbruk          66\n",
       "Andre                      19\n",
       "Bygård/Flermannsbolig      10\n",
       "Produksjon/Industri         4\n",
       "Annet fritid                3\n",
       "Garasje/Parkering           2\n",
       "Name: property_type_description, dtype: int64"
      ]
     },
     "execution_count": 28,
     "metadata": {},
     "output_type": "execute_result"
    }
   ],
   "source": [
    "df['property_type_description'].value_counts()"
   ]
  },
  {
   "cell_type": "code",
   "execution_count": 30,
   "id": "e255a3c3",
   "metadata": {},
   "outputs": [
    {
     "data": {
      "text/plain": [
       "Eier (Selveier)    5455\n",
       "Andel              1446\n",
       "Aksje                59\n",
       "Obligasjon            1\n",
       "Name: owner_type_description, dtype: int64"
      ]
     },
     "execution_count": 30,
     "metadata": {},
     "output_type": "execute_result"
    }
   ],
   "source": [
    "df['owner_type_description'].value_counts()"
   ]
  },
  {
   "cell_type": "markdown",
   "id": "0dac5f64",
   "metadata": {},
   "source": [
    "#### energy labels \n",
    "dict ={'A':1,'B':2,'C':3,'D':4,'E':5,'F':6,'G':7}"
   ]
  },
  {
   "cell_type": "code",
   "execution_count": 45,
   "id": "16ca2051",
   "metadata": {},
   "outputs": [
    {
     "data": {
      "text/plain": [
       "<AxesSubplot:>"
      ]
     },
     "execution_count": 45,
     "metadata": {},
     "output_type": "execute_result"
    },
    {
     "data": {
      "image/png": "[encoded data removed]",
      "text/plain": [
       "<Figure size 432x288 with 1 Axes>"
      ]
     },
     "metadata": {
      "needs_background": "light"
     },
     "output_type": "display_data"
    }
   ],
   "source": [
    "df['energy_label'].value_counts().plot.bar()"
   ]
  },
  {
   "cell_type": "markdown",
   "id": "e342345f",
   "metadata": {},
   "source": [
    "####  transform the year as category\n",
    "\n",
    "# year as labels\n",
    "<1901 = 0 \n",
    "\n",
    "1901-1905=1\n",
    "\n",
    "1906-2011=2\n",
    "\n",
    "..."
   ]
  },
  {
   "cell_type": "code",
   "execution_count": 49,
   "id": "b2037d15",
   "metadata": {},
   "outputs": [],
   "source": [
    "#Year of construction from continuous to categorical\n",
    "\n",
    "df['byggear_cat']=pd.cut(df['from_year'],range(1901, 2027, 5),labels=range(1,26,1),right=False)\n",
    "df['byggear_cat'].values.add_categories(0)\n",
    "df['byggear_cat']= np.where(df['byggear_cat'].isnull(),0,df['byggear_cat'])"
   ]
  },
  {
   "cell_type": "code",
   "execution_count": 54,
   "id": "e28bcfed",
   "metadata": {},
   "outputs": [
    {
     "data": {
      "text/plain": [
       "<AxesSubplot:>"
      ]
     },
     "execution_count": 54,
     "metadata": {},
     "output_type": "execute_result"
    },
    {
     "data": {
      "image/png": "[encoded data removed]",
      "text/plain": [
       "<Figure size 432x288 with 1 Axes>"
      ]
     },
     "metadata": {
      "needs_background": "light"
     },
     "output_type": "display_data"
    }
   ],
   "source": [
    "df['byggear_cat'].value_counts().sort_index().plot.bar()"
   ]
  },
  {
   "cell_type": "code",
   "execution_count": 73,
   "id": "04d7a1ab",
   "metadata": {},
   "outputs": [
    {
     "ename": "ValueError",
     "evalue": "Grouper for 'energy_label' not 1-dimensional",
     "output_type": "error",
     "traceback": [
      "\u001b[0;31m---------------------------------------------------------------------------\u001b[0m",
      "\u001b[0;31mValueError\u001b[0m                                Traceback (most recent call last)",
      "Input \u001b[0;32mIn [73]\u001b[0m, in \u001b[0;36m<cell line: 1>\u001b[0;34m()\u001b[0m\n\u001b[0;32m----> 1\u001b[0m \u001b[43mpd\u001b[49m\u001b[38;5;241;43m.\u001b[39;49m\u001b[43mpivot_table\u001b[49m\u001b[43m(\u001b[49m\u001b[43mdf\u001b[49m\u001b[43m,\u001b[49m\u001b[43mvalues\u001b[49m\u001b[38;5;241;43m=\u001b[39;49m\u001b[43m[\u001b[49m\u001b[38;5;124;43m'\u001b[39;49m\u001b[38;5;124;43menergy_label\u001b[39;49m\u001b[38;5;124;43m'\u001b[39;49m\u001b[43m]\u001b[49m\u001b[43m,\u001b[49m\u001b[43m \u001b[49m\u001b[43mindex\u001b[49m\u001b[38;5;241;43m=\u001b[39;49m\u001b[43m[\u001b[49m\u001b[38;5;124;43m'\u001b[39;49m\u001b[38;5;124;43mbyggear_cat\u001b[39;49m\u001b[38;5;124;43m'\u001b[39;49m\u001b[43m,\u001b[49m\u001b[38;5;124;43m'\u001b[39;49m\u001b[38;5;124;43menergy_label\u001b[39;49m\u001b[38;5;124;43m'\u001b[39;49m\u001b[43m]\u001b[49m\u001b[43m,\u001b[49m\u001b[43maggfunc\u001b[49m\u001b[38;5;241;43m=\u001b[39;49m\u001b[38;5;124;43m'\u001b[39;49m\u001b[38;5;124;43mvalue_counts\u001b[39;49m\u001b[38;5;124;43m'\u001b[39;49m\u001b[43m)\u001b[49m\n",
      "File \u001b[0;32m~/Library/Python/3.8/lib/python/site-packages/pandas/core/reshape/pivot.py:95\u001b[0m, in \u001b[0;36mpivot_table\u001b[0;34m(data, values, index, columns, aggfunc, fill_value, margins, dropna, margins_name, observed, sort)\u001b[0m\n\u001b[1;32m     92\u001b[0m     table \u001b[38;5;241m=\u001b[39m concat(pieces, keys\u001b[38;5;241m=\u001b[39mkeys, axis\u001b[38;5;241m=\u001b[39m\u001b[38;5;241m1\u001b[39m)\n\u001b[1;32m     93\u001b[0m     \u001b[38;5;28;01mreturn\u001b[39;00m table\u001b[38;5;241m.\u001b[39m__finalize__(data, method\u001b[38;5;241m=\u001b[39m\u001b[38;5;124m\"\u001b[39m\u001b[38;5;124mpivot_table\u001b[39m\u001b[38;5;124m\"\u001b[39m)\n\u001b[0;32m---> 95\u001b[0m table \u001b[38;5;241m=\u001b[39m \u001b[43m__internal_pivot_table\u001b[49m\u001b[43m(\u001b[49m\n\u001b[1;32m     96\u001b[0m \u001b[43m    \u001b[49m\u001b[43mdata\u001b[49m\u001b[43m,\u001b[49m\n\u001b[1;32m     97\u001b[0m \u001b[43m    \u001b[49m\u001b[43mvalues\u001b[49m\u001b[43m,\u001b[49m\n\u001b[1;32m     98\u001b[0m \u001b[43m    \u001b[49m\u001b[43mindex\u001b[49m\u001b[43m,\u001b[49m\n\u001b[1;32m     99\u001b[0m \u001b[43m    \u001b[49m\u001b[43mcolumns\u001b[49m\u001b[43m,\u001b[49m\n\u001b[1;32m    100\u001b[0m \u001b[43m    \u001b[49m\u001b[43maggfunc\u001b[49m\u001b[43m,\u001b[49m\n\u001b[1;32m    101\u001b[0m \u001b[43m    \u001b[49m\u001b[43mfill_value\u001b[49m\u001b[43m,\u001b[49m\n\u001b[1;32m    102\u001b[0m \u001b[43m    \u001b[49m\u001b[43mmargins\u001b[49m\u001b[43m,\u001b[49m\n\u001b[1;32m    103\u001b[0m \u001b[43m    \u001b[49m\u001b[43mdropna\u001b[49m\u001b[43m,\u001b[49m\n\u001b[1;32m    104\u001b[0m \u001b[43m    \u001b[49m\u001b[43mmargins_name\u001b[49m\u001b[43m,\u001b[49m\n\u001b[1;32m    105\u001b[0m \u001b[43m    \u001b[49m\u001b[43mobserved\u001b[49m\u001b[43m,\u001b[49m\n\u001b[1;32m    106\u001b[0m \u001b[43m    \u001b[49m\u001b[43msort\u001b[49m\u001b[43m,\u001b[49m\n\u001b[1;32m    107\u001b[0m \u001b[43m\u001b[49m\u001b[43m)\u001b[49m\n\u001b[1;32m    108\u001b[0m \u001b[38;5;28;01mreturn\u001b[39;00m table\u001b[38;5;241m.\u001b[39m__finalize__(data, method\u001b[38;5;241m=\u001b[39m\u001b[38;5;124m\"\u001b[39m\u001b[38;5;124mpivot_table\u001b[39m\u001b[38;5;124m\"\u001b[39m)\n",
      "File \u001b[0;32m~/Library/Python/3.8/lib/python/site-packages/pandas/core/reshape/pivot.py:164\u001b[0m, in \u001b[0;36m__internal_pivot_table\u001b[0;34m(data, values, index, columns, aggfunc, fill_value, margins, dropna, margins_name, observed, sort)\u001b[0m\n\u001b[1;32m    161\u001b[0m             \u001b[38;5;28;01mpass\u001b[39;00m\n\u001b[1;32m    162\u001b[0m     values \u001b[38;5;241m=\u001b[39m \u001b[38;5;28mlist\u001b[39m(values)\n\u001b[0;32m--> 164\u001b[0m grouped \u001b[38;5;241m=\u001b[39m \u001b[43mdata\u001b[49m\u001b[38;5;241;43m.\u001b[39;49m\u001b[43mgroupby\u001b[49m\u001b[43m(\u001b[49m\u001b[43mkeys\u001b[49m\u001b[43m,\u001b[49m\u001b[43m \u001b[49m\u001b[43mobserved\u001b[49m\u001b[38;5;241;43m=\u001b[39;49m\u001b[43mobserved\u001b[49m\u001b[43m,\u001b[49m\u001b[43m \u001b[49m\u001b[43msort\u001b[49m\u001b[38;5;241;43m=\u001b[39;49m\u001b[43msort\u001b[49m\u001b[43m)\u001b[49m\n\u001b[1;32m    165\u001b[0m agged \u001b[38;5;241m=\u001b[39m grouped\u001b[38;5;241m.\u001b[39magg(aggfunc)\n\u001b[1;32m    166\u001b[0m \u001b[38;5;28;01mif\u001b[39;00m dropna \u001b[38;5;129;01mand\u001b[39;00m \u001b[38;5;28misinstance\u001b[39m(agged, ABCDataFrame) \u001b[38;5;129;01mand\u001b[39;00m \u001b[38;5;28mlen\u001b[39m(agged\u001b[38;5;241m.\u001b[39mcolumns):\n",
      "File \u001b[0;32m~/Library/Python/3.8/lib/python/site-packages/pandas/core/frame.py:7718\u001b[0m, in \u001b[0;36mDataFrame.groupby\u001b[0;34m(self, by, axis, level, as_index, sort, group_keys, squeeze, observed, dropna)\u001b[0m\n\u001b[1;32m   7713\u001b[0m axis \u001b[38;5;241m=\u001b[39m \u001b[38;5;28mself\u001b[39m\u001b[38;5;241m.\u001b[39m_get_axis_number(axis)\n\u001b[1;32m   7715\u001b[0m \u001b[38;5;66;03m# https://github.com/python/mypy/issues/7642\u001b[39;00m\n\u001b[1;32m   7716\u001b[0m \u001b[38;5;66;03m# error: Argument \"squeeze\" to \"DataFrameGroupBy\" has incompatible type\u001b[39;00m\n\u001b[1;32m   7717\u001b[0m \u001b[38;5;66;03m# \"Union[bool, NoDefault]\"; expected \"bool\"\u001b[39;00m\n\u001b[0;32m-> 7718\u001b[0m \u001b[38;5;28;01mreturn\u001b[39;00m \u001b[43mDataFrameGroupBy\u001b[49m\u001b[43m(\u001b[49m\n\u001b[1;32m   7719\u001b[0m \u001b[43m    \u001b[49m\u001b[43mobj\u001b[49m\u001b[38;5;241;43m=\u001b[39;49m\u001b[38;5;28;43mself\u001b[39;49m\u001b[43m,\u001b[49m\n\u001b[1;32m   7720\u001b[0m \u001b[43m    \u001b[49m\u001b[43mkeys\u001b[49m\u001b[38;5;241;43m=\u001b[39;49m\u001b[43mby\u001b[49m\u001b[43m,\u001b[49m\n\u001b[1;32m   7721\u001b[0m \u001b[43m    \u001b[49m\u001b[43maxis\u001b[49m\u001b[38;5;241;43m=\u001b[39;49m\u001b[43maxis\u001b[49m\u001b[43m,\u001b[49m\n\u001b[1;32m   7722\u001b[0m \u001b[43m    \u001b[49m\u001b[43mlevel\u001b[49m\u001b[38;5;241;43m=\u001b[39;49m\u001b[43mlevel\u001b[49m\u001b[43m,\u001b[49m\n\u001b[1;32m   7723\u001b[0m \u001b[43m    \u001b[49m\u001b[43mas_index\u001b[49m\u001b[38;5;241;43m=\u001b[39;49m\u001b[43mas_index\u001b[49m\u001b[43m,\u001b[49m\n\u001b[1;32m   7724\u001b[0m \u001b[43m    \u001b[49m\u001b[43msort\u001b[49m\u001b[38;5;241;43m=\u001b[39;49m\u001b[43msort\u001b[49m\u001b[43m,\u001b[49m\n\u001b[1;32m   7725\u001b[0m \u001b[43m    \u001b[49m\u001b[43mgroup_keys\u001b[49m\u001b[38;5;241;43m=\u001b[39;49m\u001b[43mgroup_keys\u001b[49m\u001b[43m,\u001b[49m\n\u001b[1;32m   7726\u001b[0m \u001b[43m    \u001b[49m\u001b[43msqueeze\u001b[49m\u001b[38;5;241;43m=\u001b[39;49m\u001b[43msqueeze\u001b[49m\u001b[43m,\u001b[49m\u001b[43m  \u001b[49m\u001b[38;5;66;43;03m# type: ignore[arg-type]\u001b[39;49;00m\n\u001b[1;32m   7727\u001b[0m \u001b[43m    \u001b[49m\u001b[43mobserved\u001b[49m\u001b[38;5;241;43m=\u001b[39;49m\u001b[43mobserved\u001b[49m\u001b[43m,\u001b[49m\n\u001b[1;32m   7728\u001b[0m \u001b[43m    \u001b[49m\u001b[43mdropna\u001b[49m\u001b[38;5;241;43m=\u001b[39;49m\u001b[43mdropna\u001b[49m\u001b[43m,\u001b[49m\n\u001b[1;32m   7729\u001b[0m \u001b[43m\u001b[49m\u001b[43m)\u001b[49m\n",
      "File \u001b[0;32m~/Library/Python/3.8/lib/python/site-packages/pandas/core/groupby/groupby.py:882\u001b[0m, in \u001b[0;36mGroupBy.__init__\u001b[0;34m(self, obj, keys, axis, level, grouper, exclusions, selection, as_index, sort, group_keys, squeeze, observed, mutated, dropna)\u001b[0m\n\u001b[1;32m    879\u001b[0m \u001b[38;5;28;01mif\u001b[39;00m grouper \u001b[38;5;129;01mis\u001b[39;00m \u001b[38;5;28;01mNone\u001b[39;00m:\n\u001b[1;32m    880\u001b[0m     \u001b[38;5;28;01mfrom\u001b[39;00m \u001b[38;5;21;01mpandas\u001b[39;00m\u001b[38;5;21;01m.\u001b[39;00m\u001b[38;5;21;01mcore\u001b[39;00m\u001b[38;5;21;01m.\u001b[39;00m\u001b[38;5;21;01mgroupby\u001b[39;00m\u001b[38;5;21;01m.\u001b[39;00m\u001b[38;5;21;01mgrouper\u001b[39;00m \u001b[38;5;28;01mimport\u001b[39;00m get_grouper\n\u001b[0;32m--> 882\u001b[0m     grouper, exclusions, obj \u001b[38;5;241m=\u001b[39m \u001b[43mget_grouper\u001b[49m\u001b[43m(\u001b[49m\n\u001b[1;32m    883\u001b[0m \u001b[43m        \u001b[49m\u001b[43mobj\u001b[49m\u001b[43m,\u001b[49m\n\u001b[1;32m    884\u001b[0m \u001b[43m        \u001b[49m\u001b[43mkeys\u001b[49m\u001b[43m,\u001b[49m\n\u001b[1;32m    885\u001b[0m \u001b[43m        \u001b[49m\u001b[43maxis\u001b[49m\u001b[38;5;241;43m=\u001b[39;49m\u001b[43maxis\u001b[49m\u001b[43m,\u001b[49m\n\u001b[1;32m    886\u001b[0m \u001b[43m        \u001b[49m\u001b[43mlevel\u001b[49m\u001b[38;5;241;43m=\u001b[39;49m\u001b[43mlevel\u001b[49m\u001b[43m,\u001b[49m\n\u001b[1;32m    887\u001b[0m \u001b[43m        \u001b[49m\u001b[43msort\u001b[49m\u001b[38;5;241;43m=\u001b[39;49m\u001b[43msort\u001b[49m\u001b[43m,\u001b[49m\n\u001b[1;32m    888\u001b[0m \u001b[43m        \u001b[49m\u001b[43mobserved\u001b[49m\u001b[38;5;241;43m=\u001b[39;49m\u001b[43mobserved\u001b[49m\u001b[43m,\u001b[49m\n\u001b[1;32m    889\u001b[0m \u001b[43m        \u001b[49m\u001b[43mmutated\u001b[49m\u001b[38;5;241;43m=\u001b[39;49m\u001b[38;5;28;43mself\u001b[39;49m\u001b[38;5;241;43m.\u001b[39;49m\u001b[43mmutated\u001b[49m\u001b[43m,\u001b[49m\n\u001b[1;32m    890\u001b[0m \u001b[43m        \u001b[49m\u001b[43mdropna\u001b[49m\u001b[38;5;241;43m=\u001b[39;49m\u001b[38;5;28;43mself\u001b[39;49m\u001b[38;5;241;43m.\u001b[39;49m\u001b[43mdropna\u001b[49m\u001b[43m,\u001b[49m\n\u001b[1;32m    891\u001b[0m \u001b[43m    \u001b[49m\u001b[43m)\u001b[49m\n\u001b[1;32m    893\u001b[0m \u001b[38;5;28mself\u001b[39m\u001b[38;5;241m.\u001b[39mobj \u001b[38;5;241m=\u001b[39m obj\n\u001b[1;32m    894\u001b[0m \u001b[38;5;28mself\u001b[39m\u001b[38;5;241m.\u001b[39maxis \u001b[38;5;241m=\u001b[39m obj\u001b[38;5;241m.\u001b[39m_get_axis_number(axis)\n",
      "File \u001b[0;32m~/Library/Python/3.8/lib/python/site-packages/pandas/core/groupby/grouper.py:877\u001b[0m, in \u001b[0;36mget_grouper\u001b[0;34m(obj, key, axis, level, sort, observed, mutated, validate, dropna)\u001b[0m\n\u001b[1;32m    873\u001b[0m     in_axis, name, gpr \u001b[38;5;241m=\u001b[39m \u001b[38;5;28;01mTrue\u001b[39;00m, gpr, obj[gpr]\n\u001b[1;32m    874\u001b[0m     \u001b[38;5;28;01mif\u001b[39;00m gpr\u001b[38;5;241m.\u001b[39mndim \u001b[38;5;241m!=\u001b[39m \u001b[38;5;241m1\u001b[39m:\n\u001b[1;32m    875\u001b[0m         \u001b[38;5;66;03m# non-unique columns; raise here to get the name in the\u001b[39;00m\n\u001b[1;32m    876\u001b[0m         \u001b[38;5;66;03m# exception message\u001b[39;00m\n\u001b[0;32m--> 877\u001b[0m         \u001b[38;5;28;01mraise\u001b[39;00m \u001b[38;5;167;01mValueError\u001b[39;00m(\u001b[38;5;124mf\u001b[39m\u001b[38;5;124m\"\u001b[39m\u001b[38;5;124mGrouper for \u001b[39m\u001b[38;5;124m'\u001b[39m\u001b[38;5;132;01m{\u001b[39;00mname\u001b[38;5;132;01m}\u001b[39;00m\u001b[38;5;124m'\u001b[39m\u001b[38;5;124m not 1-dimensional\u001b[39m\u001b[38;5;124m\"\u001b[39m)\n\u001b[1;32m    878\u001b[0m     exclusions\u001b[38;5;241m.\u001b[39madd(name)\n\u001b[1;32m    879\u001b[0m \u001b[38;5;28;01melif\u001b[39;00m obj\u001b[38;5;241m.\u001b[39m_is_level_reference(gpr, axis\u001b[38;5;241m=\u001b[39maxis):\n",
      "\u001b[0;31mValueError\u001b[0m: Grouper for 'energy_label' not 1-dimensional"
     ]
    }
   ],
   "source": [
    "    pd.pivot_table(df,values=['energy_label'], index='byggear_cat',aggfunc='value_counts')"
   ]
  },
  {
   "cell_type": "code",
   "execution_count": null,
   "id": "ad5464b3",
   "metadata": {},
   "outputs": [],
   "source": []
  }
 ],
 "metadata": {
  "kernelspec": {
   "display_name": "Python 3 (ipykernel)",
   "language": "python",
   "name": "python3"
  },
  "language_info": {
   "codemirror_mode": {
    "name": "ipython",
    "version": 3
   },
   "file_extension": ".py",
   "mimetype": "text/x-python",
   "name": "python",
   "nbconvert_exporter": "python",
   "pygments_lexer": "ipython3",
   "version": "3.8.9"
  }
 },
 "nbformat": 4,
 "nbformat_minor": 5
}
